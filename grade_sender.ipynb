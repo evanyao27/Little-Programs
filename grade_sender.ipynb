{
 "metadata": {
  "name": "",
  "signature": "sha256:dc08e145629fef81e87bd16739ea9f02d68e90174b14cc6323448bbda25a6ea7"
 },
 "nbformat": 3,
 "nbformat_minor": 0,
 "worksheets": [
  {
   "cells": [
    {
     "cell_type": "code",
     "collapsed": false,
     "input": [
      "import pandas as pd \n",
      "import numpy as np \n",
      "import matplotlib.pyplot as plt \n",
      "import seaborn as sns\n",
      "\n",
      "%matplotlib inline\n",
      "\n",
      "grades = pd.read_csv('/Users/evanyao/grades.csv')\n",
      "\n",
      "pset_names = ['PS%02d' % (i) for i in range(1,34)]\n",
      "pset_names.insert(0, 'Email')\n",
      "pset_names.insert(0, 'Name')\n",
      "\n",
      "grades = grades[pset_names]\n",
      "\n",
      "grades.head()"
     ],
     "language": "python",
     "metadata": {},
     "outputs": []
    },
    {
     "cell_type": "code",
     "collapsed": false,
     "input": [
      "grades.tail()"
     ],
     "language": "python",
     "metadata": {},
     "outputs": [
      {
       "html": [
        "<div style=\"max-height:1000px;max-width:1500px;overflow:auto;\">\n",
        "<table border=\"1\" class=\"dataframe\">\n",
        "  <thead>\n",
        "    <tr style=\"text-align: right;\">\n",
        "      <th></th>\n",
        "      <th>Name</th>\n",
        "      <th>Email</th>\n",
        "      <th>PS01</th>\n",
        "      <th>PS02</th>\n",
        "      <th>PS03</th>\n",
        "      <th>PS04</th>\n",
        "      <th>PS05</th>\n",
        "      <th>PS06</th>\n",
        "      <th>PS07</th>\n",
        "      <th>PS08</th>\n",
        "      <th>...</th>\n",
        "      <th>PS24</th>\n",
        "      <th>PS25</th>\n",
        "      <th>PS26</th>\n",
        "      <th>PS27</th>\n",
        "      <th>PS28</th>\n",
        "      <th>PS29</th>\n",
        "      <th>PS30</th>\n",
        "      <th>PS31</th>\n",
        "      <th>PS32</th>\n",
        "      <th>PS33</th>\n",
        "    </tr>\n",
        "  </thead>\n",
        "  <tbody>\n",
        "    <tr>\n",
        "      <th>11</th>\n",
        "      <td> Mendizabal, Carlos</td>\n",
        "      <td> carlosmendizabal</td>\n",
        "      <td> 29.5</td>\n",
        "      <td> 46.5</td>\n",
        "      <td> 26.0</td>\n",
        "      <td> 44.5</td>\n",
        "      <td> 30.0</td>\n",
        "      <td> 55</td>\n",
        "      <td> 30</td>\n",
        "      <td> 35.0</td>\n",
        "      <td>...</td>\n",
        "      <td> 27</td>\n",
        "      <td> 56</td>\n",
        "      <td> 40.0</td>\n",
        "      <td> 41</td>\n",
        "      <td> 43.5</td>\n",
        "      <td> 49</td>\n",
        "      <td> 49</td>\n",
        "      <td> 30</td>\n",
        "      <td> 20</td>\n",
        "      <td> 20</td>\n",
        "    </tr>\n",
        "    <tr>\n",
        "      <th>12</th>\n",
        "      <td>        Parks, Kyle</td>\n",
        "      <td>        kyleparks</td>\n",
        "      <td> 38.0</td>\n",
        "      <td> 43.0</td>\n",
        "      <td> 24.0</td>\n",
        "      <td> 31.0</td>\n",
        "      <td> 24.0</td>\n",
        "      <td> 58</td>\n",
        "      <td> 36</td>\n",
        "      <td> 44.0</td>\n",
        "      <td>...</td>\n",
        "      <td> 23</td>\n",
        "      <td> 54</td>\n",
        "      <td> 32.0</td>\n",
        "      <td> 36</td>\n",
        "      <td> 36.0</td>\n",
        "      <td> 51</td>\n",
        "      <td> 47</td>\n",
        "      <td> 33</td>\n",
        "      <td> 16</td>\n",
        "      <td> 17</td>\n",
        "    </tr>\n",
        "    <tr>\n",
        "      <th>13</th>\n",
        "      <td>     Peterman, Anna</td>\n",
        "      <td>        apeterman</td>\n",
        "      <td> 39.0</td>\n",
        "      <td> 47.0</td>\n",
        "      <td> 24.5</td>\n",
        "      <td> 44.5</td>\n",
        "      <td> 26.0</td>\n",
        "      <td> 64</td>\n",
        "      <td> 42</td>\n",
        "      <td> 44.5</td>\n",
        "      <td>...</td>\n",
        "      <td> 27</td>\n",
        "      <td> 44</td>\n",
        "      <td> 34.0</td>\n",
        "      <td> 39</td>\n",
        "      <td> 42.5</td>\n",
        "      <td> 50</td>\n",
        "      <td> 49</td>\n",
        "      <td> 31</td>\n",
        "      <td> 18</td>\n",
        "      <td> 14</td>\n",
        "    </tr>\n",
        "    <tr>\n",
        "      <th>14</th>\n",
        "      <td>       Rahill, John</td>\n",
        "      <td>       johnrahill</td>\n",
        "      <td> 37.0</td>\n",
        "      <td> 42.5</td>\n",
        "      <td> 24.0</td>\n",
        "      <td> 43.0</td>\n",
        "      <td> 26.5</td>\n",
        "      <td> 63</td>\n",
        "      <td> 33</td>\n",
        "      <td> 45.5</td>\n",
        "      <td>...</td>\n",
        "      <td> 27</td>\n",
        "      <td> 55</td>\n",
        "      <td> 37.5</td>\n",
        "      <td> 42</td>\n",
        "      <td> 41.5</td>\n",
        "      <td> 42</td>\n",
        "      <td> 48</td>\n",
        "      <td> 33</td>\n",
        "      <td> 20</td>\n",
        "      <td> 16</td>\n",
        "    </tr>\n",
        "    <tr>\n",
        "      <th>15</th>\n",
        "      <td>             Out of</td>\n",
        "      <td>              NaN</td>\n",
        "      <td> 40.0</td>\n",
        "      <td> 47.0</td>\n",
        "      <td> 25.0</td>\n",
        "      <td> 45.0</td>\n",
        "      <td> 25.0</td>\n",
        "      <td> 65</td>\n",
        "      <td> 35</td>\n",
        "      <td> 49.0</td>\n",
        "      <td>...</td>\n",
        "      <td> 27</td>\n",
        "      <td> 57</td>\n",
        "      <td> 40.0</td>\n",
        "      <td> 43</td>\n",
        "      <td> 47.0</td>\n",
        "      <td> 48</td>\n",
        "      <td> 50</td>\n",
        "      <td> 35</td>\n",
        "      <td> 20</td>\n",
        "      <td> 20</td>\n",
        "    </tr>\n",
        "  </tbody>\n",
        "</table>\n",
        "<p>5 rows \u00d7 35 columns</p>\n",
        "</div>"
       ],
       "metadata": {},
       "output_type": "pyout",
       "prompt_number": 232,
       "text": [
        "                  Name             Email  PS01  PS02  PS03  PS04  PS05  PS06  \\\n",
        "11  Mendizabal, Carlos  carlosmendizabal  29.5  46.5  26.0  44.5  30.0    55   \n",
        "12         Parks, Kyle         kyleparks  38.0  43.0  24.0  31.0  24.0    58   \n",
        "13      Peterman, Anna         apeterman  39.0  47.0  24.5  44.5  26.0    64   \n",
        "14        Rahill, John        johnrahill  37.0  42.5  24.0  43.0  26.5    63   \n",
        "15              Out of               NaN  40.0  47.0  25.0  45.0  25.0    65   \n",
        "\n",
        "    PS07  PS08  ...   PS24  PS25  PS26  PS27  PS28  PS29  PS30  PS31  PS32  \\\n",
        "11    30  35.0  ...     27    56  40.0    41  43.5    49    49    30    20   \n",
        "12    36  44.0  ...     23    54  32.0    36  36.0    51    47    33    16   \n",
        "13    42  44.5  ...     27    44  34.0    39  42.5    50    49    31    18   \n",
        "14    33  45.5  ...     27    55  37.5    42  41.5    42    48    33    20   \n",
        "15    35  49.0  ...     27    57  40.0    43  47.0    48    50    35    20   \n",
        "\n",
        "    PS33  \n",
        "11    20  \n",
        "12    17  \n",
        "13    14  \n",
        "14    16  \n",
        "15    20  \n",
        "\n",
        "[5 rows x 35 columns]"
       ]
      }
     ],
     "prompt_number": 232
    },
    {
     "cell_type": "code",
     "collapsed": false,
     "input": [
      "grades = grades.as_matrix()"
     ],
     "language": "python",
     "metadata": {},
     "outputs": [
      {
       "output_type": "stream",
       "stream": "stdout",
       "text": [
        "[['Ades, Hannah' 'ades' 38.5 42.5 20.0 43.0 25.0 64.5 36.0 41.5 32.5 48.0\n",
        "  50.0 31.5 26.5 44 34.0 46.0 50.5 44.0 41.0 33.0 33.0 67.0 44.0 27.0 40\n",
        "  34.0 43 45.5 52 50 32 18 16]\n",
        " ['Baveja, Hanel' 'hanelbaveja' 39.5 45.0 24.0 45.0 27.0 65.0 35.0 54.0\n",
        "  34.5 50.0 50.0 31.5 27.0 45 33.0 38.0 53.5 40.5 42.0 36.5 34.5 62.0 52.0\n",
        "  27.0 56 36.0 43 43.0 58 60 35 19 20]\n",
        " ['Bayardo, Ignacio' 'ibayardo' 37.0 41.0 24.5 0.0 26.0 54.5 0.0 44.5 27.0\n",
        "  45.0 50.0 32.5 27.0 42 34.0 39.0 53.0 38.5 24.0 28.0 34.5 68.0 47.0 27.0\n",
        "  54 38.0 0 45.0 57 48 33 19 19]\n",
        " ['Beatty, Matthew' 'mbeatty' 36.5 40.5 23.5 36.0 24.5 62.0 36.0 50.5 31.5\n",
        "  46.5 50.0 32.0 27.0 45 33.0 43.5 53.0 39.0 36.0 34.0 28.5 64.0 50.0 24.0\n",
        "  54 37.0 43 41.0 58 48 31 16 16]\n",
        " ['Chang, Hayoung' 'hayoungchang' 40.0 47.0 26.0 45.0 27.0 64.5 45.0 54.0\n",
        "  35.0 50.0 50.0 35.0 27.0 43 35.0 46.0 56.0 44.0 43.5 40.0 35.0 70.0 52.0\n",
        "  27.0 57 39.5 43 46.0 58 48 34 20 20]\n",
        " ['Dhillon, Risham' 'rishamdhillon' 40.0 47.0 26.0 45.0 27.0 64.5 42.0 52.5\n",
        "  34.5 49.0 50.0 32.0 27.0 43 32.0 43.0 53.5 44.0 42.0 37.0 35.0 67.0 52.0\n",
        "  25.0 52 38.0 41 46.0 58 58 35 20 20]\n",
        " ['Galbraith, Calais' 'cgalbraith' 39.0 45.5 24.0 44.5 28.0 59.0 38.0 46.5\n",
        "  31.5 47.0 50.0 35.0 27.0 41 26.0 37.0 49.0 37.0 30.0 27.5 35.0 58.0 51.0\n",
        "  27.0 55 36.0 37 47.0 59 49 34 17 19]\n",
        " ['Hossnieh-Sani, Kian' 'kiansani' 39.0 46.5 25.5 45.0 30.0 63.5 44.0 36.0\n",
        "  34.0 47.0 50.0 33.0 27.0 45 35.0 42.5 55.0 43.0 40.5 34.0 34.5 63.0 51.0\n",
        "  25.5 55 34.0 41 42.5 53 53 32 20 20]\n",
        " ['Linek, Piotr' 'plinek' 36.5 39.0 25.5 41.5 22.5 50.5 31.0 31.5 30.0 48.5\n",
        "  49.0 33.0 27.0 43 35.0 41.0 50.0 39.0 36.0 32.5 32.5 61.0 47.0 21.0 45\n",
        "  37.0 35 34.5 43 50 31 16 18]\n",
        " ['Lo Bello, Josephine' 'jlobello' 36.5 45.5 20.0 41.5 28.0 61.5 40.0 48.0\n",
        "  23.0 49.0 50.0 34.0 27.0 43 33.0 46.0 54.0 41.5 41.0 35.0 28.5 70.0 49.0\n",
        "  27.0 56 39.0 39 45.0 45 50 32 20 18]\n",
        " ['Mehta, Alyssa' 'alyssamehta' 40.0 44.0 25.5 45.0 29.0 61.0 35.5 48.5\n",
        "  34.5 48.0 48.5 33.0 27.0 42 33.0 45.0 52.5 41.0 41.5 29.0 30.0 64.0 52.0\n",
        "  25.0 57 40.0 41 45.5 57 50 35 20 20]\n",
        " ['Mendizabal, Carlos' 'carlosmendizabal' 29.5 46.5 26.0 44.5 30.0 55.0\n",
        "  30.0 35.0 33.0 48.0 50.0 36.0 27.0 45 35.0 38.0 40.0 37.0 38.0 37.5 33.5\n",
        "  68.5 52.0 27.0 56 40.0 41 43.5 49 49 30 20 20]\n",
        " ['Parks, Kyle' 'kyleparks' 38.0 43.0 24.0 31.0 24.0 58.0 36.0 44.0 30.0\n",
        "  50.0 50.0 27.0 27.0 43 35.0 41.5 53.0 41.0 37.0 31.0 29.0 67.5 48.5 23.0\n",
        "  54 32.0 36 36.0 51 47 33 16 17]\n",
        " ['Peterman, Anna' 'apeterman' 39.0 47.0 24.5 44.5 26.0 64.0 42.0 44.5 35.0\n",
        "  46.0 48.5 34.5 27.0 43 30.0 45.5 53.0 43.0 39.0 35.0 32.5 68.5 48.0 27.0\n",
        "  44 34.0 39 42.5 50 49 31 18 14]\n",
        " ['Rahill, John' 'johnrahill' 37.0 42.5 24.0 43.0 26.5 63.0 33.0 45.5 30.0\n",
        "  45.0 49.0 30.0 27.0 43 32.5 37.0 48.5 40.0 39.5 35.0 33.0 58.0 46.0 27.0\n",
        "  55 37.5 42 41.5 42 48 33 20 16]\n",
        " ['Out of' nan 40.0 47.0 25.0 45.0 25.0 65.0 35.0 49.0 35.0 50.0 50.0 36.0\n",
        "  27.0 45 35.0 46.0 51.0 44.0 44.0 30.0 35.0 70.0 52.0 27.0 57 40.0 43 47.0\n",
        "  48 50 35 20 20]]\n"
       ]
      }
     ],
     "prompt_number": 233
    },
    {
     "cell_type": "code",
     "collapsed": false,
     "input": [
      "cumulatives = [np.cumsum(grades[i][2:]) for i in range(len(grades))]"
     ],
     "language": "python",
     "metadata": {},
     "outputs": [],
     "prompt_number": 234
    },
    {
     "cell_type": "code",
     "collapsed": false,
     "input": [
      "def percent(x,y):\n",
      "    return int(100* x / y)\n",
      "\n",
      "cum_percent = [map(percent, cumulatives[i], cumulatives[-1]) for i in range(len(grades) - 1)]"
     ],
     "language": "python",
     "metadata": {},
     "outputs": [],
     "prompt_number": 235
    },
    {
     "cell_type": "code",
     "collapsed": false,
     "input": [
      "def show(index):\n",
      "    plt.plot(range(0, len(cum_percent[index])), cum_percent[index])\n",
      "    plt.title(\"Plot for %s\" % (grades[index][0]))\n",
      "    plt.ylabel(\"Percent\")\n",
      "    plt.xlabel(\"As of Homework Number\")\n",
      "    plt.ylim([80,110])\n",
      "    plt.axhline(y=100)\n",
      "    plt.show()"
     ],
     "language": "python",
     "metadata": {},
     "outputs": [],
     "prompt_number": 236
    },
    {
     "cell_type": "code",
     "collapsed": false,
     "input": [
      "percentages = [map(percent, grades[i][2:-1], grades[-1][2:-1]) for i in range(len(grades) -1 )]"
     ],
     "language": "python",
     "metadata": {},
     "outputs": [],
     "prompt_number": 237
    },
    {
     "cell_type": "code",
     "collapsed": false,
     "input": [
      "def historgram(index):\n",
      "    plt.hist(percentages[index]) \n",
      "    plt.title(\"Plot for %s\" % (grades[index][0]))\n",
      "    plt.xlabel(\"Percentage\")\n",
      "    plt.ylabel(\"Frequency\")\n",
      "    plt.show()"
     ],
     "language": "python",
     "metadata": {},
     "outputs": [],
     "prompt_number": 238
    },
    {
     "cell_type": "code",
     "collapsed": false,
     "input": [
      "num_HW_drop = [1 for i in range(len(grades) - 1)]\n",
      "num_HW_drop.append(\"Num HW drop\")\n",
      "\n",
      "num_HW_drop[1] += 1 \n",
      "num_HW_drop[3] += 1 \n",
      "num_HW_drop[5] += 2 \n",
      "num_HW_drop[7] += 1 \n",
      "num_HW_drop[8] += 1 \n",
      "num_HW_drop[11] += 2 \n",
      "\n",
      "l = [1,3,5,7,8,11]\n",
      "\n",
      "for i in l: \n",
      "    print grades[i][0]"
     ],
     "language": "python",
     "metadata": {},
     "outputs": [
      {
       "output_type": "stream",
       "stream": "stdout",
       "text": [
        "Baveja, Hanel\n",
        "Beatty, Matthew\n",
        "Dhillon, Risham\n",
        "Hossnieh-Sani, Kian\n",
        "Linek, Piotr\n",
        "Mendizabal, Carlos\n"
       ]
      }
     ],
     "prompt_number": 245
    },
    {
     "cell_type": "code",
     "collapsed": false,
     "input": [
      "import operator\n",
      "\n",
      "x = range(1,34)\n",
      "\n",
      "num_missed_points = [zip(x,map(operator.sub, grades[i][2:], grades[-1][2:]), grades[-1][2:]) for i in range(len(grades)-1)]                      "
     ],
     "language": "python",
     "metadata": {},
     "outputs": [],
     "prompt_number": 240
    },
    {
     "cell_type": "code",
     "collapsed": false,
     "input": [
      "for i in range(len(grades) - 1):\n",
      "    num_missed_points[i].sort(key = lambda t: t[1])"
     ],
     "language": "python",
     "metadata": {},
     "outputs": [],
     "prompt_number": 241
    },
    {
     "cell_type": "code",
     "collapsed": false,
     "input": [
      "isdropped = [[num_missed_points[i][j][0] for j in range(num_HW_drop[i])] for i in range(len(grades) - 1)]\n",
      "dropped = [num_missed_points[i][0:num_HW_drop[i]] for i in range(len(grades) - 1)]"
     ],
     "language": "python",
     "metadata": {},
     "outputs": [],
     "prompt_number": 328
    },
    {
     "cell_type": "code",
     "collapsed": false,
     "input": [
      "print isdropped \n",
      "print dropped"
     ],
     "language": "python",
     "metadata": {},
     "outputs": [
      {
       "output_type": "stream",
       "stream": "stdout",
       "text": [
        "[[25], [16, 22], [4], [4, 19], [14], [25, 12, 15], [19], [8, 22], [8, 6], [9], [22], [8, 17, 1], [4], [25], [22]]\n",
        "[[(25, -17, 57)], [(16, -8.0, 46.0), (22, -8.0, 70.0)], [(4, -45.0, 45.0)], [(4, -9.0, 45.0), (19, -8.0, 44.0)], [(14, -2, 45)], [(25, -5, 57), (12, -4.0, 36.0), (15, -3.0, 35.0)], [(19, -14.0, 44.0)], [(8, -13.0, 49.0), (22, -7.0, 70.0)], [(8, -17.5, 49.0), (6, -14.5, 65.0)], [(9, -12.0, 35.0)], [(22, -6.0, 70.0)], [(8, -14.0, 49.0), (17, -11.0, 51.0), (1, -10.5, 40.0)], [(4, -14.0, 45.0)], [(25, -13, 57)], [(22, -12.0, 70.0)]]\n"
       ]
      }
     ],
     "prompt_number": 329
    },
    {
     "cell_type": "code",
     "collapsed": false,
     "input": [
      "sums = [np.sum(grades[i][2:]) for i in range(len(grades) - 1)]\n",
      "totals = [1368 for i in range(len(grades) - 1)]\n",
      "\n",
      "print totals\n",
      "print sums\n",
      "\n",
      "before = map(percent, sums, totals)\n",
      "print before"
     ],
     "language": "python",
     "metadata": {},
     "outputs": [
      {
       "output_type": "stream",
       "stream": "stdout",
       "text": [
        "[1368, 1368, 1368, 1368, 1368, 1368, 1368, 1368, 1368, 1368, 1368, 1368, 1368, 1368, 1368]\n",
        "[1293.5, 1361.5, 1157.0, 1290.5, 1402.5, 1378.0, 1286.5, 1340.0, 1213.0, 1316.0, 1340.0, 1290.5, 1253.5, 1308.5, 1270.0]\n",
        "[94, 99, 84, 94, 102, 100, 94, 97, 88, 96, 97, 94, 91, 95, 92]\n"
       ]
      }
     ],
     "prompt_number": 299
    },
    {
     "cell_type": "code",
     "collapsed": false,
     "input": [
      "for i in range(len(grades) - 1):\n",
      "    for j in range(len(dropped[i])):\n",
      "        sums[i] -= dropped[i][j][2] + dropped[i][j][1]\n",
      "        totals[i] -= dropped[i][j][2]"
     ],
     "language": "python",
     "metadata": {},
     "outputs": [],
     "prompt_number": 300
    },
    {
     "cell_type": "code",
     "collapsed": false,
     "input": [
      "final = map(percent, sums, totals)\n",
      "print sums\n",
      "print totals\n",
      "print final\n",
      "print num_HW_drop"
     ],
     "language": "python",
     "metadata": {},
     "outputs": [
      {
       "output_type": "stream",
       "stream": "stdout",
       "text": [
        "[1253.5, 1261.5, 1157.0, 1218.5, 1359.5, 1262.0, 1256.5, 1241.0, 1131.0, 1293.0, 1276.0, 1186.0, 1222.5, 1264.5, 1212.0]\n",
        "[1311, 1252.0, 1323.0, 1279.0, 1323, 1240.0, 1324.0, 1249.0, 1254.0, 1333.0, 1298.0, 1228.0, 1323.0, 1311, 1298.0]\n",
        "[95, 100, 87, 95, 102, 101, 94, 99, 90, 96, 98, 96, 92, 96, 93]\n",
        "[1, 2, 1, 2, 1, 3, 1, 2, 2, 1, 1, 3, 1, 1, 1, 'Num HW drop']\n"
       ]
      }
     ],
     "prompt_number": 307
    },
    {
     "cell_type": "code",
     "collapsed": false,
     "input": [
      "len(grades)"
     ],
     "language": "python",
     "metadata": {},
     "outputs": [
      {
       "metadata": {},
       "output_type": "pyout",
       "prompt_number": 260,
       "text": [
        "16"
       ]
      }
     ],
     "prompt_number": 260
    },
    {
     "cell_type": "code",
     "collapsed": false,
     "input": [
      "range(1)"
     ],
     "language": "python",
     "metadata": {},
     "outputs": [
      {
       "metadata": {},
       "output_type": "pyout",
       "prompt_number": 270,
       "text": [
        "[0]"
       ]
      }
     ],
     "prompt_number": 270
    },
    {
     "cell_type": "code",
     "collapsed": false,
     "input": [
      "\"\"\"\n",
      "\n",
      "import smtplib\n",
      "\n",
      "GMAIL_USERNAME = 'yuanfanyao@college.harvard.edu'\n",
      "GMAIL_PASSWORD = ''\n",
      "\n",
      "email_subject = 'Math 1b Final Homework Grades'\n",
      "\n",
      "# The below code never changes, though obviously those variables need values.\n",
      "session = smtplib.SMTP('smtp.gmail.com', 587)\n",
      "session.ehlo()\n",
      "session.starttls()\n",
      "session.login(GMAIL_USERNAME, GMAIL_PASSWORD)\n",
      " \n",
      "def sendTo(n):\n",
      "    recipient = grades[n][1] + '@college.harvard.edu'\n",
      "    recipient_name = grades[n][0].split()[-1]\n",
      "\n",
      "    body_of_email = \"\"\"\n",
      "    Hi %s, \n",
      "    <br/> <br/>\n",
      "    Here are the homework grades that I have recorded for you for this semester. <br/>\n",
      "    <ul>\n",
      "\n",
      "    \"\"\" % recipient_name\n",
      "\n",
      "    for i in range(2, len(grades[n])):\n",
      "        color = 'black'\n",
      "        if i-1 in isdropped[n]: \n",
      "            color = 'red'\n",
      "        if (i-1) % 3 == 1:\n",
      "            body_of_email += \"<li>\" \n",
      "        body_of_email += \"<span style = 'color: %s' > <b> PS%02d </b> : %02.1f / %02d</span> &nbsp;   \" % (color, i-1, grades[n][i], grades[-1][i])\n",
      "        if (i-1) % 3 == 0: \n",
      "            body_of_email += \"</li>\"\n",
      "\n",
      "    body_of_email += \"\"\"\n",
      "    </ul> \n",
      "    Please note that the total possible points for a couple HW's were changed. The number of points taken off on each HW, however, has not changed. <br/> <br/> \n",
      "\n",
      "    Dropped homeworks are shown above in <font color = 'red'> red</font>. The problem set(s) with the highest number of missed points is/are dropped.\n",
      "    <br/> <br/> \n",
      "    You have earned %d additional homework drops by taking quizzes. <br/> <br/>\n",
      "\n",
      "    <b> Number of Homework Drops: </b> %d <br/> <br/>\n",
      "\n",
      "    <b> Your Earned Points:  </b> %d <br/> \n",
      "    <b> Total Number of Points (for you): </b> %d <br/> <br/>\n",
      "\n",
      "    <b> Final Homework Score: </b> %d%% <br/> <br/>\n",
      "\n",
      "    Please email me with any discrepancies. <br/> <br/>\n",
      "    Thank you for a wonderful semester! <br/> <br/> \n",
      "\n",
      "    Best Regards, <br/> \n",
      "    Evan <br/>\n",
      "\n",
      "    <br/> <br/>\n",
      "\n",
      "    P.S. I sent this email using Python. \n",
      "\n",
      "    \"\"\" % (num_HW_drop[n] - 1, num_HW_drop[n], totals[n], sums[n], final[n])\n",
      "\n",
      "\n",
      "    headers = \"\\r\\n\".join([\"from: Evan Yao\",\n",
      "                           \"subject: \" + email_subject,\n",
      "                           \"to: \" + recipient,\n",
      "                           \"mime-version: 1.0\",\n",
      "                           \"content-type: text/html\"])\n",
      "\n",
      "    # body_of_email can be plaintext or html!                    \n",
      "    content = headers + \"\\r\\n\\r\\n\" + body_of_email\n",
      "    session.sendmail(GMAIL_USERNAME, recipient, content)\n",
      "\"\"\"\n",
      "\"\"\"\n",
      "for i in range(len(grades) - 1):\n",
      "    sendTo(i)\n",
      "\"\"\"\n"
     ],
     "language": "python",
     "metadata": {},
     "outputs": [],
     "prompt_number": 368
    },
    {
     "cell_type": "code",
     "collapsed": false,
     "input": [],
     "language": "python",
     "metadata": {},
     "outputs": [],
     "prompt_number": 367
    },
    {
     "cell_type": "code",
     "collapsed": false,
     "input": [],
     "language": "python",
     "metadata": {},
     "outputs": [],
     "prompt_number": 367
    },
    {
     "cell_type": "code",
     "collapsed": false,
     "input": [],
     "language": "python",
     "metadata": {},
     "outputs": [],
     "prompt_number": 367
    },
    {
     "cell_type": "code",
     "collapsed": false,
     "input": [],
     "language": "python",
     "metadata": {},
     "outputs": []
    }
   ],
   "metadata": {}
  }
 ]
}