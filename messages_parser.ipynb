{
 "metadata": {
  "name": "",
  "signature": "sha256:36157199e1dc7ec384b561cf3011631457f2202b2c95051eede78cce3777416e"
 },
 "nbformat": 3,
 "nbformat_minor": 0,
 "worksheets": [
  {
   "cells": [
    {
     "cell_type": "heading",
     "level": 1,
     "metadata": {},
     "source": [
      "Facebook Messages Parser and Analyzer"
     ]
    },
    {
     "cell_type": "markdown",
     "metadata": {},
     "source": [
      "<b> Current Features for each Chat: </b>\n",
      "\n",
      "<ul> \n",
      "<li> Create bar charts that contain the following information for each person\n",
      "<ul> \n",
      "    <li> Character count in percent</li>\n",
      "    <li> Average response time in minutes </li> \n",
      "    <li> Number of conversations initiated </li> \n",
      "</ul>\n",
      "\n",
      "<li> List of people you've talked to the most </li> \n",
      "<li> List of conversations most active, including your participation rate in them </li> \n",
      "<li> Quiz where you choose a chat and are presented with some random quotes to identify </li>\n",
      "</li>\n",
      "\n",
      "</ul>"
     ]
    },
    {
     "cell_type": "code",
     "collapsed": false,
     "input": [
      "import pylab as pl\n",
      "import numpy as np\n",
      "import time\n",
      "from datetime import datetime\n",
      "from collections import Counter\n",
      "\n",
      "%matplotlib inline\n",
      "\n",
      "import xml.etree.ElementTree as ET\n",
      "\n",
      "# change the file name here!!\n",
      "tree = ET.parse('/Users/evanyao/messages.htm')\n",
      "root = tree.getroot()"
     ],
     "language": "python",
     "metadata": {},
     "outputs": []
    },
    {
     "cell_type": "heading",
     "level": 2,
     "metadata": {},
     "source": [
      "Reading in Data "
     ]
    },
    {
     "cell_type": "code",
     "collapsed": false,
     "input": [
      "# Helper function to filter out tags of a ceertain class\n",
      "def filter_class(root, tag, class_):\n",
      "    results = [] \n",
      "    for div in root.findall(tag):\n",
      "        if 'class' in div.attrib and div.attrib['class'] == class_:\n",
      "            results.append(div)\n",
      "    if len(results) == 1: \n",
      "        return results[0]\n",
      "    else: \n",
      "        return results\n",
      "\n",
      "# translates a FB message time into a dateTime object\n",
      "def getTime(string_time):\n",
      "    return datetime.fromtimestamp(time.mktime(time.strptime(string_time, \"%A, %B %d, %Y at %I:%M%p %Z\")))\n",
      "\n",
      "# returns the difference in mins between two string times \n",
      "def minutes_difference(time1, time2):\n",
      "    return (getTime(time1) - getTime(time2)).seconds / 60.0"
     ],
     "language": "python",
     "metadata": {},
     "outputs": []
    },
    {
     "cell_type": "code",
     "collapsed": false,
     "input": [
      "body = root.find('body')\n",
      "contents = filter_class(body, 'div', 'contents').find('div')\n",
      "\n",
      "chats = filter_class(contents, 'div', 'thread')"
     ],
     "language": "python",
     "metadata": {},
     "outputs": []
    },
    {
     "cell_type": "heading",
     "level": 2,
     "metadata": {},
     "source": [
      "Extracting Data"
     ]
    },
    {
     "cell_type": "code",
     "collapsed": false,
     "input": [
      "# counter to enumerate all chats\n",
      "index = 0\n",
      "all_names = []\n",
      "\n",
      "# the main function which gathers character count and time data \n",
      "def getInfo(test_case, threshold):   \n",
      "    global index\n",
      "   \n",
      "    previous_user = ''\n",
      "    names =  test_case.text\n",
      "    print (\"%3s\" % str(index)) + '  ' + names\n",
      "    all_names.append(names)\n",
      "    \n",
      "    index += 1\n",
      "    counts, times, words = {}, {}, {}\n",
      "    previous_time = None \n",
      "    first = True \n",
      "    starts = Counter()\n",
      "\n",
      "    for message in test_case:\n",
      "        # if the div is a message header containing name of person and time\n",
      "        if message.tag == 'div': \n",
      "            user = message.find('div').find('span').text\n",
      "            message_time = filter_class(message.find('div'), 'span', 'meta').text\n",
      "            if first:\n",
      "                first = False\n",
      "                previous_time = message_time \n",
      "                previous_user = user\n",
      "                continue\n",
      "            elif previous_user != user:         \n",
      "                diff = minutes_difference(previous_time, message_time)\n",
      "                previous_time = message_time\n",
      "                if diff < threshold:\n",
      "                    if previous_user in times: \n",
      "                        times[previous_user].append(diff)\n",
      "                    else: \n",
      "                        times[previous_user] = [diff]\n",
      "                elif diff > 480: \n",
      "                    starts[previous_user] += 1\n",
      "                previous_user = user\n",
      "                \n",
      "        # if the tag is a paragraph, indicating someone's text \n",
      "        if message.tag == 'p': \n",
      "            if message.text != None:\n",
      "                if previous_user in words: \n",
      "                    counts[previous_user].append(len(message.text))\n",
      "                    words[previous_user] += '\\n' + message.text \n",
      "                else: \n",
      "                    counts[previous_user] = [len(message.text)]\n",
      "                    words[previous_user] = message.text\n",
      "\n",
      "    return counts, times, words, starts\n",
      "\n",
      "# calculates the total character count and average response time \n",
      "def modify_dicts(c, t, w,s): \n",
      "    for item in c: \n",
      "        c[item] = sum(c[item]) \n",
      "    for item in t:\n",
      "        t[item] = np.mean(np.array(t[item]))\n",
      "    return c,t,w,s"
     ],
     "language": "python",
     "metadata": {},
     "outputs": []
    },
    {
     "cell_type": "code",
     "collapsed": false,
     "input": [
      "# wraps together getInfo and modify_dicts\n",
      "\n",
      "# change the 120 below to modify the upper bound on a message response time \n",
      "def compile_stats(chat_num):\n",
      "    c,t,w,s = getInfo(chats[chat_num], 120)\n",
      "    return modify_dicts(c,t,w,s)"
     ],
     "language": "python",
     "metadata": {},
     "outputs": []
    },
    {
     "cell_type": "heading",
     "level": 3,
     "metadata": {},
     "source": [
      "Here is your Chat Number Legend:"
     ]
    },
    {
     "cell_type": "code",
     "collapsed": false,
     "input": [
      "# compile global variables c, t, w, s; c[chat_number] = character count of chat_number\n",
      "\n",
      "c_global = []\n",
      "t_global = [] \n",
      "w_global = [] \n",
      "s_global = []\n",
      "\n",
      "print \"Use this to find the chat number: \"\n",
      "\n",
      "for i in range(len(chats)):\n",
      "    c,t,w,s = compile_stats(i)\n",
      "    c_global.append(c)\n",
      "    t_global.append(t)\n",
      "    w_global.append(w)\n",
      "    s_global.append(s)\n",
      "\n",
      "index = 0 "
     ],
     "language": "python",
     "metadata": {},
     "outputs": []
    },
    {
     "cell_type": "heading",
     "level": 2,
     "metadata": {},
     "source": [
      "Feature 1: Making Plots"
     ]
    },
    {
     "cell_type": "code",
     "collapsed": false,
     "input": [
      "# Makes 3 plots (1) character count, (2) average response time, (3) initiating conversation\n",
      "def plot(chat_number):\n",
      "    d = c_global[chat_number]\n",
      "    \n",
      "    rot = '0'\n",
      "    if len(d.keys()) > 5: \n",
      "        rot = 'vertical'\n",
      "    X = np.arange(len(d))\n",
      "    pl.bar(X, np.array(d.values()) / float(sum(d.values())), align='center', width=0.5, color = 'b')\n",
      "    pl.xticks(X, d.keys(), rotation=rot)\n",
      "    pl.title('Message Character Analysis')\n",
      "    pl.show()\n",
      "    \n",
      "    d = t_global[chat_number]\n",
      "    X = np.arange(len(d))\n",
      "    pl.bar(X, np.array(d.values()), align='center', width=0.5, color = 'r')\n",
      "    pl.xticks(X, d.keys(), rotation = rot)\n",
      "    pl.title('Average Response Time in Minutes')\n",
      "    pl.show()\n",
      "    \n",
      "    d = s_global[chat_number]\n",
      "    X = np.arange(len(d))\n",
      "    pl.bar(X, np.array(d.values()), align='center', width=0.5, color = 'g')\n",
      "    pl.xticks(X, d.keys(), rotation = rot)\n",
      "    pl.title('Initiating Conversation Times')\n",
      "    pl.show()"
     ],
     "language": "python",
     "metadata": {},
     "outputs": []
    },
    {
     "cell_type": "heading",
     "level": 3,
     "metadata": {},
     "source": [
      "Call the function plot(chat_number) here:"
     ]
    },
    {
     "cell_type": "code",
     "collapsed": false,
     "input": [
      "# plot(0)"
     ],
     "language": "python",
     "metadata": {},
     "outputs": [
      {
       "metadata": {},
       "output_type": "display_data",
       "png": "[encoded data removed]",
       "text": [
        "<matplotlib.figure.Figure at 0x12c07ff50>"
       ]
      },
      {
       "metadata": {},
       "output_type": "display_data",
       "png": "[encoded data removed]",
       "text": [
        "<matplotlib.figure.Figure at 0x11d94ef90>"
       ]
      },
      {
       "metadata": {},
       "output_type": "display_data",
       "png": "[encoded data removed]",
       "text": [
        "<matplotlib.figure.Figure at 0x14afa8d50>"
       ]
      }
     ],
     "prompt_number": 786
    },
    {
     "cell_type": "heading",
     "level": 2,
     "metadata": {},
     "source": [
      "Feature 2: People you talk with the Most"
     ]
    },
    {
     "cell_type": "code",
     "collapsed": false,
     "input": [
      "# Counts the people you chat the most with \n",
      "\n",
      "# change to True in order to show all people\n",
      "showall = False \n",
      "\n",
      "global_counter = Counter() \n",
      "\n",
      "for key in c_global: \n",
      "    global_counter += Counter(key)\n",
      "\n",
      "zipped = global_counter.items()\n",
      "zipped.sort(key = lambda item: item[1], reverse = True)\n",
      "\n",
      "x = 0\n",
      "print \"%s %18s %s\" % ('Place', 'Name', 'Count')\n",
      "for i,j in (zipped if showall else zipped[0:21]): \n",
      "    print \"%03d %20s %d\" % (x, i,j)\n",
      "    x+= 1"
     ],
     "language": "python",
     "metadata": {},
     "outputs": []
    },
    {
     "cell_type": "heading",
     "level": 2,
     "metadata": {},
     "source": [
      "Feature 3: Conversations most Talkative:"
     ]
    },
    {
     "cell_type": "code",
     "collapsed": false,
     "input": [
      "def totalCount(chat):\n",
      "    total = 0\n",
      "    for person in chat: \n",
      "        total += chat[person]\n",
      "    return total \n",
      "\n",
      "c_total = [totalCount(c_global[i]) for i in range(len(c_global))]\n",
      "\n",
      "total_convo = zip(c_total, all_names, range(0, len(c_total)))\n",
      "\n",
      "total_convo.sort(key = lambda x: x[0], reverse = True)\n",
      "print \"Conversations that talk the most\"\n",
      "print \"Rank    Count Participation Rate    Conversation Members\"\n",
      "\n",
      "i = 1\n",
      "for pair in total_convo: \n",
      "    c_g = c_global[pair[2]]\n",
      "    E = c_g['Evan Yao'] if 'Evan Yao' in c_g else 0\n",
      "    print \"%03d    %6d    %4f           %s\" %(i, pair[0], E / (float(pair[0])+0.001), pair[1])\n",
      "    i += 1"
     ],
     "language": "python",
     "metadata": {},
     "outputs": []
    },
    {
     "cell_type": "heading",
     "level": 2,
     "metadata": {},
     "source": [
      "Feature 4: Quote Identification Quiz!"
     ]
    },
    {
     "cell_type": "code",
     "collapsed": false,
     "input": [
      "def generateQuiz(chat_number, times):\n",
      "    words = [] \n",
      "    names = [] \n",
      "\n",
      "    for i in w_global[chat_number]: \n",
      "        words.append(w_global[chat_number][i].split('\\n'))\n",
      "        names.append(i)\n",
      "\n",
      "    import random \n",
      "    \n",
      "    print \"Possible Answers\" \n",
      "    print names \n",
      "    print \"-\"*30\n",
      "\n",
      "    answers = []\n",
      "\n",
      "    for i in range(times):\n",
      "        person = random.randint(0, len(w_global[chat_number].keys()) - 1)\n",
      "        text = words[person]\n",
      "        answers.append(names[person])\n",
      "        print \"%d. Who said these two lines?\" % (i+1)\n",
      "        print text[random.randint(0, len(text) - 1)]\n",
      "        print text[random.randint(0, len(text) - 1)]\n",
      "        print \"-\"*10\n",
      "\n",
      "    print \"\\n\"*3 \n",
      "\n",
      "    for i in range(len(answers)):\n",
      "        print \"%d. Answer: %s \\n\" % (i+1, answers[i])"
     ],
     "language": "python",
     "metadata": {},
     "outputs": []
    },
    {
     "cell_type": "code",
     "collapsed": false,
     "input": [
      "# generateQuiz(50, 10)"
     ],
     "language": "python",
     "metadata": {},
     "outputs": []
    }
   ],
   "metadata": {}
  }
 ]
}